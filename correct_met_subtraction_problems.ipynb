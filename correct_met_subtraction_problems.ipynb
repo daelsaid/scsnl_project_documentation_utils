{
  "cells": [
    {
      "cell_type": "code",
      "source": [
        "import os\n",
        "from glob import glob\n",
        "import pandas as pd\n",
        "import sys\n",
        "import openpyxl\n"
      ],
      "outputs": [],
      "execution_count": 1,
      "metadata": {
        "collapsed": false,
        "outputHidden": false,
        "inputHidden": false
      }
    },
    {
      "cell_type": "markdown",
      "source": [
        "install required packages "
      ],
      "metadata": {}
    },
    {
      "cell_type": "code",
      "source": [
        "def install(name):\n",
        "    import subprocess\n",
        "    subprocess.call(['pip', 'install', name])\n",
        "       "
      ],
      "outputs": [],
      "execution_count": 527,
      "metadata": {
        "collapsed": false,
        "outputHidden": false,
        "inputHidden": false
      }
    },
    {
      "cell_type": "code",
      "source": [
        "install('openpyxl')\n",
        "install('xlsxwriter')"
      ],
      "outputs": [],
      "execution_count": 579,
      "metadata": {
        "collapsed": false,
        "outputHidden": false,
        "inputHidden": false
      }
    },
    {
      "cell_type": "markdown",
      "source": [
        "#### define paths and change directories"
      ],
      "metadata": {}
    },
    {
      "cell_type": "code",
      "source": [
        "data_dir='/Users/daelsaid/scratch/Neuropsych_organized/scratch_testing'\n",
        "os.chdir(data_dir)"
      ],
      "outputs": [],
      "execution_count": 73,
      "metadata": {
        "collapsed": false,
        "outputHidden": false,
        "inputHidden": false
      }
    },
    {
      "cell_type": "markdown",
      "source": [
        "#### rename_cols"
      ],
      "metadata": {}
    },
    {
      "cell_type": "code",
      "source": [
        "column_names=['A_equation_old','A_key_old','table_break','B_equation','B_key']"
      ],
      "outputs": [],
      "execution_count": 3,
      "metadata": {
        "collapsed": false,
        "outputHidden": false,
        "inputHidden": false
      }
    },
    {
      "cell_type": "markdown",
      "source": [
        "### function that sets cell value to correct equation and answer\n",
        "#### if equation = incorrect, set to corr\n",
        "#### if ans = incorrect, set to corr"
      ],
      "metadata": {}
    },
    {
      "cell_type": "code",
      "source": [
        "data={'A_equation_old': ['16 - 4','17 - 5'],'A_key_old': [\"12\", \"2\"]}\n",
        "\n",
        "def update_row_vals(row,data=data):\n",
        "    if row == data['A_equation_old'][0]:\n",
        "        row = '16 - 14'\n",
        "    if row == data['A_key_old'][0]:\n",
        "        row = '2'                \n",
        "    if row == data['A_equation_old'][1]:\n",
        "        row = '17 - 15'\n",
        "    if row == data['A_key_old'][1]:\n",
        "        row = '2'                \n",
        "    return row        "
      ],
      "outputs": [],
      "execution_count": 4,
      "metadata": {
        "collapsed": false,
        "outputHidden": false,
        "inputHidden": false
      }
    },
    {
      "cell_type": "markdown",
      "source": [
        "#### list filename, subject PID and visit\n",
        "#### apply function from above to each relevant row\n",
        "#### check each respective row equation and answer to ensure change was done correctly\n"
      ],
      "metadata": {}
    },
    {
      "cell_type": "code",
      "source": [
        "for subj_data_file in os.listdir(data_dir):\n",
        "    subj_df=pd.read_excel(subj_data_file,sheetname=4,header=[0],skiprows=None,dtype=str)\n",
        "    subj_df.columns=column_names\n",
        "    subj=subj_data_file.split('_')[2]\n",
        "    visit=subj_data_file.split('.')[0].split('_')[3]\n",
        "    print subj,visit\n",
        "    subj_df.A_equation_old.iloc[9] = subj_df.A_equation_old.apply(update_row_vals).iloc[9]\n",
        "    subj_df.A_equation_old.iloc[62] = subj_df.A_equation_old.apply(update_row_vals).iloc[62]\n",
        "    subj_df.A_key_old.iloc[9] = subj_df.A_key_old.apply(update_row_vals).iloc[9]\n",
        "    subj_df.A_key_old.iloc[62] = subj_df.A_key_old.apply(update_row_vals).iloc[62]\n",
        "    new=subj+'test_'+visit+'.xlsx'\n",
        "    test='MET_Subtraction_'+subj+'_'+visit+'_test.xlsx'\n",
        "    orig='MET_Subtraction_'+subj+'_'+visit+'.xlsx'\n",
        "    #     subj_df.to_excel('MET_Subtraction_'+subj+'_'+visit+'_'+'test.xlsx',index=False,sheet_name='Version_Pool',header=['A','','','B',''],na_rep='')\n",
        "\n    "
      ],
      "outputs": [],
      "execution_count": null,
      "metadata": {
        "collapsed": false,
        "outputHidden": false,
        "inputHidden": false,
        "outputExpanded": false
      }
    },
    {
      "cell_type": "code",
      "source": [
        "all_assess_dirs='/Users/daelsaid/scratch/Neuropsych_organized/scratch_testing/all'\n",
        "os.chdir(all_assess_dirs)\n",
        "\n",
        "for subj_data_file in os.listdir(all_assess_dirs):\n",
        "    print subj_data_file\n",
        "    try:\n",
        "        subj_df=pd.read_excel(subj_data_file,sheetname='Import_Formula',header=[0],skiprows=None,dtype=str)\n",
        "        subj=subj_data_file.split('_')[2]\n",
        "        visit=subj_data_file.split('.')[0].split('_')[3]\n",
        "        file_prefix=subj_data_file.split('.')[0]\n",
        "#         subj_df.to_excel(file_prefix+'_import.xlsx',index=False,sheet_name='Import',na_rep='')\n",
        "    except:\n",
        "        print 'error for %s', file_prefix\n",
        "        continue\n",
        "   "
      ],
      "outputs": [],
      "execution_count": null,
      "metadata": {
        "collapsed": false,
        "outputHidden": false,
        "inputHidden": false
      }
    },
    {
      "cell_type": "code",
      "source": [
        "for subj_data_file in os.listdir(data_dir):\n",
        "    subj_df=pd.read_excel(subj_data_file,sheetname=4,skiprows=1,dtype=str)\n",
        "    subj_df.columns=column_names\n",
        "    subj=subj_data_file.split('_')[2]\n",
        "    visit=subj_data_file.split('.')[0].split('_')[3]\n",
        "#     print ['OLD: '+ subj_df.A_equation_old.iloc[8]+' = '+ subj_df.A_key_old.iloc[8]],subj_df.A_equation_old.apply(update_row_vals).iloc[8],subj_df.A_key_old.apply(update_row_vals).iloc[8]\n",
        "    print subj,visit\n",
        "#     subj_df.A_equation_old.iloc[8] = subj_df.A_equation_old.apply(update_row_vals).iloc[8]\n",
        "#     subj_df.A_equation_old.iloc[61] = subj_df.A_equation_old.apply(update_row_vals).iloc[61]\n",
        "#     subj_df.A_key_old.iloc[8] = subj_df.A_key_old.apply(update_row_vals).iloc[8]\n",
        "#     subj_df.A_key_old.iloc[61] = subj_df.A_key_old.apply(update_row_vals).iloc[61]\n",
        "# #     subj_df.to_excel('MET_Subtraction_'+subj+'_'+visit+'_'+'test.xlsx',index=False,sheet_name='Version_Pool',header=['A','','','B',''],na_rep='')\n",
        "#     print subj_df.iloc[8][0],subj_df.iloc[8][1]\n",
        "#     print subj_df.iloc[61][0],subj_df.iloc[61][1]\n",
        "#     append_df_to_excel(orig,subj_df,'Version_Pool',startrow=None,truncate_sheet=True)"
      ],
      "outputs": [],
      "execution_count": null,
      "metadata": {
        "collapsed": false,
        "outputHidden": false,
        "inputHidden": false
      }
    },
    {
      "cell_type": "code",
      "source": [
        "def append_df_to_excel(filename, df, sheet_name='Sheet1', startrow=None,truncate_sheet=False, **to_excel_kwargs):\n",
        "    from openpyxl import load_workbook\n",
        "    import pandas as pd\n",
        "\n",
        "    # ignore [engine] parameter if it was passed\n",
        "    if 'engine' in to_excel_kwargs:\n",
        "        to_excel_kwargs.pop('engine')\n",
        "\n",
        "    writer = pd.ExcelWriter(filename, engine='xlsxwriter')\n",
        "\n",
        "    try:\n",
        "        FileNotFoundError\n",
        "    except NameError:\n",
        "        FileNotFoundError = IOError\n",
        "\n",
        "    try:\n",
        "        # try to open an existing workbook\n",
        "        writer.book = load_workbook(new)\n",
        "        if startrow is None and sheet_name in writer.book.sheetnames:\n",
        "            startrow = writer.book[sheet_name].max_row\n",
        "        # truncate sheet\n",
        "        if truncate_sheet and sheet_name in writer.book.sheetnames:\n",
        "            idx = writer.book.sheetnames.index(sheet_name)\n",
        "            writer.book.remove(writer.book.worksheets[idx])\n",
        "            writer.book.create_sheet(sheet_name, idx)\n",
        "        # copy existing sheets\n",
        "        writer.sheets = {ws.title:ws for ws in writer.book.worksheets}\n",
        "    except FileNotFoundError:\n",
        "        pass\n",
        "\n",
        "    if startrow is None:\n",
        "        startrow = 0\n",
        "\n",
        "    df.to_excel(writer, sheet_name, startrow=startrow, **to_excel_kwargs)\n",
        "    writer.save()"
      ],
      "outputs": [],
      "execution_count": 41,
      "metadata": {
        "collapsed": false,
        "outputHidden": false,
        "inputHidden": true
      }
    },
    {
      "cell_type": "code",
      "source": [
        "def append_sheet_to_master(writer,master_file_path, current_file_path, sheet_name):\n",
        "    try:\n",
        "        master.book = load_workbook(master_file_path)\n",
        "        master_writer = pd.ExcelWriter(master_file_path, engine='openpyxl')\n",
        "        master_writer.book = master.book\n",
        "        master_writer.sheets = dict((ws.title, ws) for ws in master_book.worksheets)\n",
        "        current_frames = pandas.ExcelFile(current_file_path).parse(pandas.ExcelFile(current_file_path).sheet_names[0],\n",
        "                                                               header=None,\n",
        "                                                               index_col=None)\n",
        "        current_frames.to_excel(master_writer, sheet_name, index=None, header=False)\n",
        "        master_writer.save()\n",
        "    except Exception as e:\n",
        "        raise e"
      ],
      "outputs": [],
      "execution_count": 45,
      "metadata": {
        "collapsed": false,
        "outputHidden": false,
        "inputHidden": true
      }
    },
    {
      "cell_type": "code",
      "source": [
        "dfs = pd.read_excel('MET_Subtraction_9470_1.xlsx', sheetname=None)\n",
        "repl_dict = {'a': 'b', 'c': 'd', 'e': 'f', 'g': 'h', 'i': 'j'}\n",
        "data={'A_equation_old': ['16 - 4','17 - 5'],'A_key_old': [\"12\", \"2\"]}\n",
        "\n",
        "writer = pd.ExcelWriter('filename.xlsx')\n",
        "for sheetname, df in dfs.items():\n",
        "    df = df.replace(repl_dict)\n",
        "    df.to_excel(writer, sheetname, index=False)\n",
        "writer.save()"
      ],
      "outputs": [],
      "execution_count": 46,
      "metadata": {
        "collapsed": false,
        "outputHidden": false,
        "inputHidden": true
      }
    },
    {
      "cell_type": "code",
      "source": [],
      "outputs": [],
      "execution_count": null,
      "metadata": {
        "collapsed": false,
        "outputHidden": false,
        "inputHidden": false
      }
    }
  ],
  "metadata": {
    "kernel_info": {
      "name": "python2"
    },
    "language_info": {
      "mimetype": "text/x-python",
      "nbconvert_exporter": "python",
      "name": "python",
      "pygments_lexer": "ipython2",
      "version": "2.7.15",
      "file_extension": ".py",
      "codemirror_mode": {
        "version": 2,
        "name": "ipython"
      }
    },
    "kernelspec": {
      "name": "python2",
      "language": "python",
      "display_name": "Python 2"
    },
    "nteract": {
      "version": "0.12.3"
    }
  },
  "nbformat": 4,
  "nbformat_minor": 4
}