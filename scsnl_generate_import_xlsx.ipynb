{
  "cells": [
    {
      "cell_type": "code",
      "source": [
        "import os\n",
        "from glob import glob\n",
        "import pandas as pd\n",
        "import sys"
      ],
      "outputs": [],
      "execution_count": 1,
      "metadata": {
        "collapsed": false,
        "outputHidden": false,
        "inputHidden": false
      }
    },
    {
      "cell_type": "markdown",
      "source": [
        "install required packages (if needed)"
      ],
      "metadata": {}
    },
    {
      "cell_type": "code",
      "source": [
        "def install(name):\n",
        "    import subprocess\n",
        "    subprocess.call(['pip', 'install', name])\n",
        "       "
      ],
      "outputs": [],
      "execution_count": null,
      "metadata": {
        "collapsed": false,
        "outputHidden": false,
        "inputHidden": false
      }
    },
    {
      "cell_type": "markdown",
      "source": [
        "#### define paths and change directories"
      ],
      "metadata": {}
    },
    {
      "cell_type": "code",
      "source": [
        "all_assess_dirs='/Users/daelsaid/scratch/Neuropsych_organized/scratch_testing/all'\n",
        "os.chdir(all_assess_dirs)"
      ],
      "outputs": [],
      "execution_count": 2,
      "metadata": {
        "collapsed": false,
        "outputHidden": false,
        "inputHidden": false
      }
    },
    {
      "cell_type": "markdown",
      "source": [
        "#### iterate through folder with all assessments and generate an import xlsx identical to the import formula tab"
      ],
      "metadata": {}
    },
    {
      "cell_type": "code",
      "source": [
        "for subj_data_file in os.listdir(all_assess_dirs):\n",
        "    print subj_data_file\n",
        "    try:\n",
        "        subj_df=pd.read_excel(subj_data_file,sheetname='Import_Formula',header=[0],skiprows=None,dtype=str)\n",
        "        subj_df.fillna(value=\"\",axis=0,inplace=True)\n",
        "        subj=subj_data_file.split('_')[2]\n",
        "        visit=subj_data_file.split('.')[0].split('_')[3]\n",
        "        file_prefix=subj_data_file.split('.')[0]\n",
        "        subj_df.to_excel(file_prefix+'_import.xlsx',index=False,sheet_name='Import')\n",
        "    except:\n",
        "        print \"error for %s\" % file_prefix\n",
        "        continue\n",
        "   "
      ],
      "outputs": [],
      "execution_count": null,
      "metadata": {
        "collapsed": false,
        "outputHidden": false,
        "inputHidden": false
      }
    },
    {
      "cell_type": "code",
      "source": [],
      "outputs": [],
      "execution_count": null,
      "metadata": {
        "collapsed": false,
        "outputHidden": false,
        "inputHidden": false
      }
    }
  ],
  "metadata": {
    "kernel_info": {
      "name": "python2"
    },
    "language_info": {
      "mimetype": "text/x-python",
      "nbconvert_exporter": "python",
      "name": "python",
      "pygments_lexer": "ipython2",
      "version": "2.7.15",
      "file_extension": ".py",
      "codemirror_mode": {
        "version": 2,
        "name": "ipython"
      }
    },
    "kernelspec": {
      "name": "python2",
      "language": "python",
      "display_name": "Python 2"
    },
    "nteract": {
      "version": "0.12.3"
    }
  },
  "nbformat": 4,
  "nbformat_minor": 4
}