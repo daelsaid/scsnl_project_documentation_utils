{
  "cells": [
    {
      "cell_type": "code",
      "source": [
        "import os\n",
        "import pandas as pd\n",
        "import sys"
      ],
      "outputs": [],
      "execution_count": 1,
      "metadata": {
        "collapsed": false,
        "outputHidden": false,
        "inputHidden": false
      }
    },
    {
      "cell_type": "markdown",
      "source": [
        "install required packages (if needed)"
      ],
      "metadata": {}
    },
    {
      "cell_type": "code",
      "source": [
        "def install(name):\n",
        "    import subprocess\n",
        "    subprocess.call(['pip', 'install', name])\n",
        "       "
      ],
      "outputs": [],
      "execution_count": null,
      "metadata": {
        "collapsed": false,
        "outputHidden": false,
        "inputHidden": false
      }
    },
    {
      "cell_type": "markdown",
      "source": [
        "all subj folders were downloaded from box and copied into one folder by using this loop:\n",
        "\n",
        "```\n",
        "cd [path to downloaded data];\n",
        "for x in `find 9*/ -name '*.xlsx*' -type f | grep -v template.xlsx`; do echo $x; cp $x /[fullpath to output folder]/; done\n",
        "```"
      ],
      "metadata": {}
    },
    {
      "cell_type": "code",
      "source": [
        "all_assess_dirs='/Users/daelsaid/scratch/Neuropsych_organized/scratch_testing/all'\n",
        "os.chdir(all_assess_dirs)"
      ],
      "outputs": [],
      "execution_count": 2,
      "metadata": {
        "collapsed": false,
        "outputHidden": false,
        "inputHidden": false
      }
    },
    {
      "cell_type": "markdown",
      "source": [
        "#### iterate through folder with all assessments and generate an import xlsx identical to the import formula tab"
      ],
      "metadata": {}
    },
    {
      "cell_type": "code",
      "source": [
        "for subj_data_file in os.listdir(all_assess_dirs):\n",
        "    print subj_data_file\n",
        "    try:\n",
        "        subj_df=pd.read_excel(subj_data_file,sheetname='Import_Formula',header=[0],skiprows=None,dtype=str)\n",
        "        subj_df.fillna(value=\"\",axis=0,inplace=True)\n",
        "        subj=subj_data_file.split('_')[2]\n",
        "        visit=subj_data_file.split('.')[0].split('_')[3]\n",
        "        file_prefix=subj_data_file.split('.')[0]\n",
        "#         subj_df.to_excel(file_prefix+'_import.xlsx',index=False,sheet_name='Import')\n",
        "    except:\n",
        "        print \"**error for {}\".format(file_prefix)\n",
        "        continue\n",
        "   "
      ],
      "outputs": [
        {
          "output_type": "stream",
          "name": "stdout",
          "text": [
            "MET_WIAT_III_9470_1.xlsx\n",
            "MET_WASI_II_9033_1.xlsx\n",
            "MET_ATL_9337_2.xlsx\n",
            "MET_WJ_III_9316_2.xlsx\n",
            "MET_WISC_V_9033_1.xlsx\n",
            "MET_WJ_III_9362_1.xlsx\n",
            "MET_WJ_III_9337_1.xlsx\n",
            "MET_Handedness_9120_1.xlsx\n",
            "**error for MET_WJ_III_9337_1\n",
            "MET_MARS(SEMA)_9470_1.xlsx\n",
            "MET_WASI_II_9492_1.xlsx\n",
            "MET_ATM_9032_1.xlsx\n",
            "MET_ATL_9362_2.xlsx\n",
            "MET_Gearys_9033_2.xlsx\n",
            "MET_ATM_9051_1.xlsx\n",
            "MET_Learning_Curve_9347_1.xlsx\n",
            "MET_ATL_9316_1.xlsx\n",
            "MET_ATM_9054_2.xlsx\n",
            "MET_ATM_9297_1.xlsx\n",
            "MET_ATM_9120_1.xlsx\n",
            "MET_MARS(SEMA)_9347_2.xlsx\n",
            "MET_Subtraction_9430_1.xlsx\n",
            "MET_Subtraction_9302_1.xlsx\n",
            "Woodcock_Johnson_9226_FormB.xlsx\n",
            "**error for MET_Subtraction_9302_1\n",
            "MET_Handedness_9051_1.xlsx\n",
            "**error for MET_Subtraction_9302_1\n",
            "MET_Gearys_9182_1.xlsx\n",
            "MET_WJ_III_9145_1.xlsx\n",
            "MET_Gearys_9476_1.xlsx\n",
            "MET_Subtraction_9496_1.xlsx\n",
            "MET_ATL_9002_2.xlsx\n",
            "MET_Handedness_9002.xlsx\n",
            "**error for MET_ATL_9002_2\n",
            "MET_WJ_III_9040_2.xlsx\n",
            "WIATIII_scoring_for_DB_9218.xlsx\n",
            "**error for MET_WJ_III_9040_2\n",
            "WASI_scoring_for_DB_9226.xlsx\n",
            "**error for MET_WJ_III_9040_2\n",
            "MET_Gearys_9440_1.xlsx\n",
            "MET_WJ_III_9002_1.xlsx\n",
            "MET_ATL_9040_1.xlsx\n",
            "**error for MET_WJ_III_9002_1\n",
            "MET_CBO_9145.xlsx\n",
            "**error for MET_WJ_III_9002_1\n",
            "MET_CBO_9040_1.xlsx\n",
            "**error for MET_WJ_III_9002_1\n",
            "WASI_II_scoring_for_DB_9218_1.xlsx\n",
            "**error for MET_WJ_III_9002_1\n",
            "MET_Learning_Curve_9072_1.xlsx\n",
            "MET_WJ_III_9033_3.xlsx\n",
            "Subtraction_MET_9054_1.xlsx\n",
            "MET_ATM_9430_2.xlsx\n",
            "MET_Subtraction_9297_2.xlsx\n",
            "MET_ATM_9347_3.xlsx\n",
            "MET_MARS(SEMA)_9072_2.xlsx\n",
            "MET_DKEFS_9470_1.xlsx\n",
            "MET_ATM_9302_2.xlsx\n",
            "WJ_III_MET_9054_1.xlsx\n",
            "MET_WASI_II_9316_1.xlsx\n",
            "only_on_neuropsych.txt\n",
            "**error for MET_WASI_II_9316_1\n",
            "met_strategy_assess_and_training_group_post.txt\n",
            "**error for MET_WASI_II_9316_1\n",
            "MET_ATM_9347_2.xlsx\n",
            "MET_MARS(SEMA)_9120_1.xlsx\n",
            "MET_MARS(SEMA)_9297_1.xlsx\n",
            "MET_MARS(SEMA)_9054_2.xlsx\n",
            "MET_Subtraction_9072_1.xlsx\n",
            "MET_WISC_V_9316_1.xlsx\n",
            "MET_WJ_III_9033_2.xlsx\n",
            "MET_Learning_Curve_9054_1.xlsx\n",
            "MET_MARS(SEMA)_9051_1.xlsx\n",
            "MET_Gearys_9337_1.xlsx\n",
            "MET_MARS(SEMA)_9032_1.xlsx\n",
            "MET_ATM_9470_1.xlsx\n",
            "MET_Gearys_9316_2.xlsx\n",
            "MET_Gearys_9362_1.xlsx\n",
            "MET_ATL_9033_1.xlsx\n",
            "MET_WIAT_III_9120_1.xlsx\n",
            "WIAT_III_9235_1.xlsx\n",
            "**error for MET_WIAT_III_9120_1\n",
            "MET_WIAT_III_9297_1.xlsx\n",
            "MET_WIAT_III_9051_1.xlsx\n",
            "MET_Learning_Curve_9496_1.xlsx\n",
            "MET_neuropsych_CBO_9492_1.xlsx\n",
            "**error for MET_Learning_Curve_9496_1\n",
            "MET_WIAT_III_9032_1.xlsx\n"
          ]
        }
      ],
      "execution_count": 3,
      "metadata": {
        "collapsed": false,
        "outputHidden": false,
        "inputHidden": false
      }
    },
    {
      "cell_type": "code",
      "source": [],
      "outputs": [],
      "execution_count": null,
      "metadata": {
        "collapsed": false,
        "outputHidden": false,
        "inputHidden": false
      }
    }
  ],
  "metadata": {
    "kernel_info": {
      "name": "python2"
    },
    "language_info": {
      "mimetype": "text/x-python",
      "nbconvert_exporter": "python",
      "name": "python",
      "pygments_lexer": "ipython2",
      "version": "2.7.15",
      "file_extension": ".py",
      "codemirror_mode": {
        "version": 2,
        "name": "ipython"
      }
    },
    "kernelspec": {
      "name": "python2",
      "language": "python",
      "display_name": "Python 2"
    },
    "nteract": {
      "version": "0.12.3"
    }
  },
  "nbformat": 4,
  "nbformat_minor": 4
}