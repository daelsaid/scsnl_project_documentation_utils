{
 "cells": [
  {
   "cell_type": "markdown",
   "metadata": {
    "toc": true
   },
   "source": [
    "<h1>Table of Contents<span class=\"tocSkip\"></span></h1>\n",
    "<div class=\"toc\"><ul class=\"toc-item\"><li><span><a href=\"#Redcap-Intake/PII-DB-mergingDE-20191018\" data-toc-modified-id=\"Redcap-Intake/PII-DB-mergingDE-20191018-1\"><span class=\"toc-item-num\">1&nbsp;&nbsp;</span>Redcap Intake/PII DB mergingDE 20191018</a></span><ul class=\"toc-item\"><li><ul class=\"toc-item\"><li><span><a href=\"#prepare-seperate-DB-csv-files-to-be-merged-with-referral_types\" data-toc-modified-id=\"prepare-seperate-DB-csv-files-to-be-merged-with-referral_types-1.0.1\"><span class=\"toc-item-num\">1.0.1&nbsp;&nbsp;</span>prepare seperate DB csv files to be merged with referral_types</a></span><ul class=\"toc-item\"><li><span><a href=\"#change-the-pii_csv-and-intake_csv-file-names\" data-toc-modified-id=\"change-the-pii_csv-and-intake_csv-file-names-1.0.1.1\"><span class=\"toc-item-num\">1.0.1.1&nbsp;&nbsp;</span>change the pii_csv and intake_csv file names</a></span></li></ul></li><li><span><a href=\"#PII-DB\" data-toc-modified-id=\"PII-DB-1.0.2\"><span class=\"toc-item-num\">1.0.2&nbsp;&nbsp;</span>PII DB</a></span></li><li><span><a href=\"#Intake-DB\" data-toc-modified-id=\"Intake-DB-1.0.3\"><span class=\"toc-item-num\">1.0.3&nbsp;&nbsp;</span>Intake DB</a></span></li><li><span><a href=\"#merge\" data-toc-modified-id=\"merge-1.0.4\"><span class=\"toc-item-num\">1.0.4&nbsp;&nbsp;</span>merge</a></span></li><li><span><a href=\"#visualize\" data-toc-modified-id=\"visualize-1.0.5\"><span class=\"toc-item-num\">1.0.5&nbsp;&nbsp;</span>visualize</a></span></li><li><span><a href=\"#write-merged-pii-&amp;-intake-dataframe-to-a-csv-file\" data-toc-modified-id=\"write-merged-pii-&amp;-intake-dataframe-to-a-csv-file-1.0.6\"><span class=\"toc-item-num\">1.0.6&nbsp;&nbsp;</span>write merged pii &amp; intake dataframe to a csv file</a></span></li><li><span><a href=\"#Prepare-Referral-type-CSV-file\" data-toc-modified-id=\"Prepare-Referral-type-CSV-file-1.0.7\"><span class=\"toc-item-num\">1.0.7&nbsp;&nbsp;</span>Prepare Referral type CSV file</a></span><ul class=\"toc-item\"><li><span><a href=\"#set-params-and-filename-for-redcap-report-of-all-respones-to-where-did-you-hear-from-us\" data-toc-modified-id=\"set-params-and-filename-for-redcap-report-of-all-respones-to-where-did-you-hear-from-us-1.0.7.1\"><span class=\"toc-item-num\">1.0.7.1&nbsp;&nbsp;</span>set params and filename for redcap report of all respones to where did you hear from us</a></span></li></ul></li><li><span><a href=\"#create-list-of-strings-to-search-for-and-group-by-from-all-ptp's-responses-to-the-question-&quot;where-did-you-hear-from-us?&quot;\" data-toc-modified-id=\"create-list-of-strings-to-search-for-and-group-by-from-all-ptp's-responses-to-the-question-&quot;where-did-you-hear-from-us?&quot;-1.0.8\"><span class=\"toc-item-num\">1.0.8&nbsp;&nbsp;</span>create list of strings to search for and group by from all ptp's responses to the question \"where did you hear from us?\"</a></span><ul class=\"toc-item\"><li><span><a href=\"#Search-strings\" data-toc-modified-id=\"Search-strings-1.0.8.1\"><span class=\"toc-item-num\">1.0.8.1&nbsp;&nbsp;</span>Search strings</a></span></li></ul></li><li><span><a href=\"#Write-the-final-DF-to-a-csv-file\" data-toc-modified-id=\"Write-the-final-DF-to-a-csv-file-1.0.9\"><span class=\"toc-item-num\">1.0.9&nbsp;&nbsp;</span>Write the final DF to a csv file</a></span></li></ul></li></ul></li></ul></div>"
   ]
  },
  {
   "cell_type": "markdown",
   "metadata": {},
   "source": [
    "# Redcap Intake/PII DB mergingDE 20191018"
   ]
  },
  {
   "cell_type": "code",
   "execution_count": 22,
   "metadata": {
    "ExecuteTime": {
     "end_time": "2019-10-18T23:51:48.536209Z",
     "start_time": "2019-10-18T23:51:48.530673Z"
    },
    "collapsed": true,
    "deletable": false,
    "editable": false,
    "inputHidden": false,
    "outputHidden": false,
    "scrolled": true
   },
   "outputs": [],
   "source": [
    "import pandas as pd\n",
    "import os\n",
    "import sys\n",
    "from IPython.display import display"
   ]
  },
  {
   "cell_type": "code",
   "execution_count": 23,
   "metadata": {
    "ExecuteTime": {
     "end_time": "2019-10-18T23:51:48.846739Z",
     "start_time": "2019-10-18T23:51:48.841641Z"
    },
    "collapsed": true,
    "deletable": false,
    "editable": false,
    "inputHidden": false,
    "outputHidden": false,
    "scrolled": true
   },
   "outputs": [],
   "source": [
    "pd.options.display.max_columns = None\n",
    "pd.options.display.max_rows= 15"
   ]
  },
  {
   "cell_type": "markdown",
   "metadata": {},
   "source": [
    "### prepare seperate DB csv files to be merged with referral_types"
   ]
  },
  {
   "cell_type": "markdown",
   "metadata": {},
   "source": [
    "#### change the pii_csv and intake_csv file names"
   ]
  },
  {
   "cell_type": "code",
   "execution_count": 48,
   "metadata": {
    "ExecuteTime": {
     "end_time": "2019-10-19T00:02:06.103422Z",
     "start_time": "2019-10-19T00:02:06.096918Z"
    },
    "collapsed": true,
    "inputHidden": false,
    "outputHidden": false,
    "scrolled": true
   },
   "outputs": [],
   "source": [
    "working_dir='/Users/daelsaid/Documents/scsnl_2019/rc/20191018'\n",
    "raw_db_csvs=os.path.join(working_dir,'db')\n",
    "\n",
    "pii_csv='pii_database.csv'\n",
    "intake_csv='intake_database.csv'\n",
    "pii_intake_merge_filename='intake_pii_initial_merge.csv'\n",
    "final_output='intake_pii_final_merge_with_referral_types.csv'"
   ]
  },
  {
   "cell_type": "markdown",
   "metadata": {},
   "source": [
    "### PII DB"
   ]
  },
  {
   "cell_type": "code",
   "execution_count": 26,
   "metadata": {
    "ExecuteTime": {
     "end_time": "2019-10-18T23:52:07.770229Z",
     "start_time": "2019-10-18T23:52:07.392369Z"
    },
    "collapsed": true,
    "deletable": false,
    "editable": false,
    "inputHidden": false,
    "outputHidden": false,
    "scrolled": true
   },
   "outputs": [],
   "source": [
    "pii_database_df=pd.read_csv(os.path.join(raw_db_csvs,pii_csv),dtype=str).applymap(lambda s:s.lower() if type(s) == str else s)\n",
    "\n",
    "pii_database_df.replace('\\s+','_', regex=True,inplace=True)\n",
    "\n",
    "pii_database_df.sort_values(by='participant_dob',na_position='last').head()\n",
    "\n",
    "#create unique identifier for each subject based on their first name, last name, adn date of birth\n",
    "pii_database_df['identifier']=pii_database_df['participant_firstname'] + '_' + pii_database_df['participant_lastname'] + '_' + pii_database_df['participant_dob']"
   ]
  },
  {
   "cell_type": "markdown",
   "metadata": {},
   "source": [
    "### Intake DB"
   ]
  },
  {
   "cell_type": "code",
   "execution_count": 27,
   "metadata": {
    "ExecuteTime": {
     "end_time": "2019-10-18T23:52:10.871851Z",
     "start_time": "2019-10-18T23:52:10.212719Z"
    },
    "collapsed": true,
    "deletable": false,
    "editable": false,
    "inputHidden": false,
    "outputHidden": false,
    "scrolled": true
   },
   "outputs": [],
   "source": [
    "intake_database_df=pd.read_csv(os.path.join(raw_db_csvs,intake_csv),dtype=str).applymap(lambda s:s.lower() if type(s) == str else s)\n",
    "\n",
    "intake_database_df.replace('\\s+','_', regex=True,inplace=True)\n",
    "\n",
    "intake_database_df.sort_values(by='participant_dob',na_position='last').head()\n",
    "\n",
    "#create unique identifier for each subject based on their first name, last name, adn date of birth\n",
    "intake_database_df['identifier']=intake_database_df['participant_firstname'] + '_' + intake_database_df['participant_lastname'] + '_' + intake_database_df['participant_dob']"
   ]
  },
  {
   "cell_type": "markdown",
   "metadata": {},
   "source": [
    "### merge"
   ]
  },
  {
   "cell_type": "code",
   "execution_count": 29,
   "metadata": {
    "ExecuteTime": {
     "end_time": "2019-10-18T23:53:43.797363Z",
     "start_time": "2019-10-18T23:52:57.233572Z"
    },
    "collapsed": true,
    "inputHidden": false,
    "outputHidden": false,
    "scrolled": true
   },
   "outputs": [],
   "source": [
    "merged_df=pd.DataFrame(dtype=str)\n",
    "merged_df=intake_database_df.merge(pii_database_df.reset_index(),on='identifier',how='inner',copy=False,suffixes=('_intake','_pii'))\n",
    "\n",
    "merged_df.sort_values(by='scsnl_pii_id',na_position='last').head()\n",
    "merged_df.drop_duplicates(inplace=True)"
   ]
  },
  {
   "cell_type": "markdown",
   "metadata": {},
   "source": [
    "### visualize"
   ]
  },
  {
   "cell_type": "code",
   "execution_count": 36,
   "metadata": {
    "ExecuteTime": {
     "end_time": "2019-10-18T23:56:26.509970Z",
     "start_time": "2019-10-18T23:56:26.496852Z"
    },
    "collapsed": true,
    "inputHidden": false,
    "outputHidden": false,
    "scrolled": true
   },
   "outputs": [
    {
     "data": {
      "text/plain": [
       "0       False\n",
       "1       False\n",
       "2       False\n",
       "3       False\n",
       "4       False\n",
       "5       False\n",
       "6       False\n",
       "        ...  \n",
       "4559     True\n",
       "4560    False\n",
       "4561    False\n",
       "4562    False\n",
       "4563    False\n",
       "4564     True\n",
       "4565     True\n",
       "Name: identifier, Length: 4566, dtype: bool"
      ]
     },
     "execution_count": 36,
     "metadata": {},
     "output_type": "execute_result"
    }
   ],
   "source": [
    "intake_database_df['identifier'].isin(pii_database_df['identifier'])"
   ]
  },
  {
   "cell_type": "code",
   "execution_count": null,
   "metadata": {
    "ExecuteTime": {
     "end_time": "2019-10-18T23:56:32.485898Z",
     "start_time": "2019-10-18T23:56:32.123525Z"
    },
    "scrolled": true
   },
   "outputs": [],
   "source": [
    "pii_database_df['identifier']\n",
    "intake_database_df['identifier']\n",
    "\n",
    "merged_df.columns.tolist()\n",
    "merged_df.head(n=20)"
   ]
  },
  {
   "cell_type": "markdown",
   "metadata": {},
   "source": [
    "### write merged pii & intake dataframe to a csv file"
   ]
  },
  {
   "cell_type": "code",
   "execution_count": 34,
   "metadata": {
    "ExecuteTime": {
     "end_time": "2019-10-18T23:56:11.229439Z",
     "start_time": "2019-10-18T23:55:38.238109Z"
    },
    "collapsed": true,
    "inputHidden": false,
    "outputHidden": false,
    "scrolled": true
   },
   "outputs": [],
   "source": [
    "merged_df.to_csv(os.path.join(working_dir,'merged_output',pii_intake_merge_filename))"
   ]
  },
  {
   "cell_type": "markdown",
   "metadata": {},
   "source": [
    "### Prepare Referral type CSV file"
   ]
  },
  {
   "cell_type": "markdown",
   "metadata": {},
   "source": [
    "#### set params and filename for redcap report of all respones to where did you hear from us\n",
    "##### [REDCAP REPORT TO EXPORT AS RAW CSV](https://redcap.stanford.edu/redcap_v9.3.5/DataExport/index.php?pid=4698&report_id=57267)"
   ]
  },
  {
   "cell_type": "code",
   "execution_count": 40,
   "metadata": {
    "ExecuteTime": {
     "end_time": "2019-10-18T23:57:23.218032Z",
     "start_time": "2019-10-18T23:57:23.115446Z"
    },
    "collapsed": true,
    "inputHidden": false,
    "outputHidden": false,
    "scrolled": true
   },
   "outputs": [],
   "source": [
    "referral_type_rc_output=os.path.join(working_dir,raw_db_csvs,'redcap_deprecated_ref_type_resp_data_export.csv')\n",
    "intake_ref_rsponses=pd.read_csv(referral_type_rc_output,dtype='str').applymap(lambda s:s.lower() if type(s) == str else s)\n",
    "intake_ref_rsponses.replace('\\s+','_', regex=True,inplace=True)"
   ]
  },
  {
   "cell_type": "markdown",
   "metadata": {},
   "source": [
    "### create list of strings to search for and group by from all ptp's responses to the question \"where did you hear from us?\"\n",
    "\n",
    "#### Search strings\n",
    "##### search string & representaiton\n",
    "```\n",
    "facebook = boo\n",
    "flyers = fly\n",
    "choo = school\n",
    "tanfor = stanford\n",
    "amil = family\n",
    "event\n",
    "posiu = symposium\n",
    "drev = edrev\n",
    "istric = district\n",
    "jar = peach jar\n",
    "frie = friends\n",
    "group = group\n",
    "bay = bay area\n",
    "eache = teacher\n",
    "class\n",
    "search\n",
    "siste = sister\n",
    "brother\n",
    "```"
   ]
  },
  {
   "cell_type": "code",
   "execution_count": 41,
   "metadata": {
    "ExecuteTime": {
     "end_time": "2019-10-18T23:57:25.098860Z",
     "start_time": "2019-10-18T23:57:25.092870Z"
    },
    "collapsed": true,
    "inputHidden": false,
    "outputHidden": false,
    "scrolled": true
   },
   "outputs": [],
   "source": [
    "list_to_search=[x for x in ['boo','fly','choo','tanfor','amil','event','posiu','drev','istric','jar', \\\n",
    "                            'frie','group','bay','eache','class','search','siste','brother']]"
   ]
  },
  {
   "cell_type": "markdown",
   "metadata": {},
   "source": [
    "##### create a dictionary of the strings above and use those strings to search the responses participants gave for a match"
   ]
  },
  {
   "cell_type": "code",
   "execution_count": null,
   "metadata": {
    "ExecuteTime": {
     "end_time": "2019-10-19T00:01:02.109717Z",
     "start_time": "2019-10-18T23:59:45.804665Z"
    },
    "inputHidden": false,
    "outputHidden": false,
    "scrolled": true
   },
   "outputs": [],
   "source": [
    "response_dict=dict()\n",
    "\n",
    "to_concat=[]\n",
    "for key in list_to_search:\n",
    "    response_dict[key]=[]\n",
    "    print key\n",
    "#     display(key,responses[responses['where_heard'].T.astype(str).str.contains(key).values.tolist()])\n",
    "    display(key,merged_df[merged_df['where_heard'].T.astype(str).str.contains(key).values.tolist()])\n",
    "    df_groupings=pd.DataFrame\n",
    "    to_concat.append(merged_df[merged_df['where_heard'].T.astype(str).str.contains(key).values.tolist()])\n",
    "    \n",
    "final_df=pd.concat(to_concat).drop_duplicates()"
   ]
  },
  {
   "cell_type": "code",
   "execution_count": null,
   "metadata": {
    "ExecuteTime": {
     "end_time": "2019-10-19T00:01:42.785413Z",
     "start_time": "2019-10-19T00:01:42.524530Z"
    },
    "scrolled": true
   },
   "outputs": [],
   "source": [
    "final_df.head(n=50)"
   ]
  },
  {
   "cell_type": "markdown",
   "metadata": {},
   "source": [
    "### Write the final DF to a csv file"
   ]
  },
  {
   "cell_type": "code",
   "execution_count": 49,
   "metadata": {
    "ExecuteTime": {
     "end_time": "2019-10-19T00:02:09.171728Z",
     "start_time": "2019-10-19T00:02:09.001669Z"
    },
    "collapsed": true,
    "inputHidden": false,
    "outputHidden": false,
    "scrolled": true
   },
   "outputs": [],
   "source": [
    "final_df.to_csv(os.path.join(working_dir,'merged_output',final_output))"
   ]
  },
  {
   "cell_type": "code",
   "execution_count": null,
   "metadata": {
    "collapsed": true,
    "scrolled": true
   },
   "outputs": [],
   "source": []
  }
 ],
 "metadata": {
  "kernel_info": {
   "name": "python2"
  },
  "kernelspec": {
   "display_name": "Python 2",
   "language": "python",
   "name": "python2"
  },
  "language_info": {
   "codemirror_mode": {
    "name": "ipython",
    "version": 2
   },
   "file_extension": ".py",
   "mimetype": "text/x-python",
   "name": "python",
   "nbconvert_exporter": "python",
   "pygments_lexer": "ipython2",
   "version": "2.7.15"
  },
  "nteract": {
   "version": "0.12.3"
  },
  "toc": {
   "base_numbering": 1,
   "nav_menu": {},
   "number_sections": true,
   "sideBar": true,
   "skip_h1_title": false,
   "title_cell": "Table of Contents",
   "title_sidebar": "Contents",
   "toc_cell": true,
   "toc_position": {
    "height": "calc(100% - 180px)",
    "left": "10px",
    "top": "150px",
    "width": "373.4007263183594px"
   },
   "toc_section_display": true,
   "toc_window_display": true
  }
 },
 "nbformat": 4,
 "nbformat_minor": 4
}
